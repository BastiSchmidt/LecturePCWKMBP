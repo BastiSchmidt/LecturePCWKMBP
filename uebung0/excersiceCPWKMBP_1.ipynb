{
 "cells": [
  {
   "cell_type": "code",
   "execution_count": 40,
   "metadata": {},
   "outputs": [],
   "source": [
    "import numpy as np\n",
    "import matplotlib.pyplot as plt\n",
    "\n",
    "class calculator:\n",
    "    def __init__ (self, a_=1.0, b_=1.0):\n",
    "        self.a = a_\n",
    "        self.b = b_\n",
    "        \n",
    "    def add(self):\n",
    "        return self.a + self.b\n",
    "    \n",
    "    def substract(self):\n",
    "        return self.a - self.b\n",
    "    \n",
    "    def multiply(self):\n",
    "        return self.a * self.b\n",
    "    \n",
    "    def writeLinear(self):\n",
    "        x = np.linspace(0,20,21)\n",
    "        y = self.a*x + self.b\n",
    "        np.savetxt(\"mylinFun_\"+str(self.a)+\"_\"+str(self.b)+\".dat\", (x , y) ,delimiter = '\\t', header = \"x\\ty = \"+str(self.a)+\" * x + \"+str(self.b))\n",
    "           \n",
    "    def plotLinear(self):\n",
    "        x = np.linspace(0,20,21)\n",
    "        y = self.a*x + self.b\n",
    "        plt.figure()\n",
    "        plt.plot(x,y,'bo')\n",
    "        plt.show()"
   ]
  },
  {
   "cell_type": "code",
   "execution_count": 41,
   "metadata": {},
   "outputs": [],
   "source": [
    "harry = calculator(3,2)"
   ]
  },
  {
   "cell_type": "code",
   "execution_count": 7,
   "metadata": {},
   "outputs": [
    {
     "data": {
      "text/plain": [
       "3"
      ]
     },
     "execution_count": 7,
     "metadata": {},
     "output_type": "execute_result"
    }
   ],
   "source": [
    "harry.a"
   ]
  },
  {
   "cell_type": "code",
   "execution_count": 8,
   "metadata": {},
   "outputs": [
    {
     "data": {
      "text/plain": [
       "2"
      ]
     },
     "execution_count": 8,
     "metadata": {},
     "output_type": "execute_result"
    }
   ],
   "source": [
    "harry.b"
   ]
  },
  {
   "cell_type": "code",
   "execution_count": 10,
   "metadata": {},
   "outputs": [
    {
     "data": {
      "text/plain": [
       "5"
      ]
     },
     "execution_count": 10,
     "metadata": {},
     "output_type": "execute_result"
    }
   ],
   "source": [
    "harry.add()"
   ]
  },
  {
   "cell_type": "code",
   "execution_count": 11,
   "metadata": {},
   "outputs": [
    {
     "data": {
      "text/plain": [
       "1"
      ]
     },
     "execution_count": 11,
     "metadata": {},
     "output_type": "execute_result"
    }
   ],
   "source": [
    "harry.substract()"
   ]
  },
  {
   "cell_type": "code",
   "execution_count": 12,
   "metadata": {},
   "outputs": [
    {
     "data": {
      "text/plain": [
       "6"
      ]
     },
     "execution_count": 12,
     "metadata": {},
     "output_type": "execute_result"
    }
   ],
   "source": [
    "harry.multiply()"
   ]
  },
  {
   "cell_type": "code",
   "execution_count": 42,
   "metadata": {},
   "outputs": [],
   "source": [
    "harry.writeLinear()"
   ]
  },
  {
   "cell_type": "code",
   "execution_count": 26,
   "metadata": {},
   "outputs": [
    {
     "data": {
      "image/png": "[encoded data removed]",
      "text/plain": [
       "<matplotlib.figure.Figure at 0x7f0df41e6cf8>"
      ]
     },
     "metadata": {},
     "output_type": "display_data"
    }
   ],
   "source": [
    "harry.plotLinear()"
   ]
  },
  {
   "cell_type": "code",
   "execution_count": 53,
   "metadata": {},
   "outputs": [],
   "source": [
    "import os\n",
    "import numpy as np\n",
    "\n",
    "def plotTwoColumnData(filepath, outfilename=\"myPlot.png\"):\n",
    "    # check if file exists\n",
    "    if os.path.isfile(filepath):\n",
    "        dataFile = np.loadtxt(filepath,comments='#', dtype={'names' : ('x', 'y'),'formats' : (np.float, np.float)}, delimiter='\\t')\n",
    "        plt.figure()\n",
    "        plt.plot(dataFile['x'], dataFile['y'], 'rx')\n",
    "        print(\"plot figure to file \"+outfilename)\n",
    "        plt.savefig(outfilename, bbox_inches='tight')"
   ]
  },
  {
   "cell_type": "code",
   "execution_count": 54,
   "metadata": {
    "scrolled": true
   },
   "outputs": [
    {
     "name": "stdout",
     "output_type": "stream",
     "text": [
      "plot figure to file myPlot.png\n"
     ]
    },
    {
     "data": {
      "image/png": "[encoded data removed]",
      "text/plain": [
       "<matplotlib.figure.Figure at 0x7f0df420b048>"
      ]
     },
     "metadata": {},
     "output_type": "display_data"
    }
   ],
   "source": [
    "plotTwoColumnData(\"mylinFun_3_2.dat\")"
   ]
  },
  {
   "cell_type": "code",
   "execution_count": null,
   "metadata": {},
   "outputs": [],
   "source": []
  }
 ],
 "metadata": {
  "kernelspec": {
   "display_name": "Python 3",
   "language": "python",
   "name": "python3"
  },
  "language_info": {
   "codemirror_mode": {
    "name": "ipython",
    "version": 3
   },
   "file_extension": ".py",
   "mimetype": "text/x-python",
   "name": "python",
   "nbconvert_exporter": "python",
   "pygments_lexer": "ipython3",
   "version": "3.6.4"
  }
 },
 "nbformat": 4,
 "nbformat_minor": 2
}
